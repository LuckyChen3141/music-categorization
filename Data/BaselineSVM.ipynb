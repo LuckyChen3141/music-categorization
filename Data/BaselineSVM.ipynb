{
 "cells": [
  {
   "cell_type": "markdown",
   "metadata": {},
   "source": [
    "## Basline SVM model By Lucky Chen\n"
   ]
  },
  {
   "cell_type": "markdown",
   "metadata": {},
   "source": [
    "The SVC (Support Vector Classifier) in scikit-learn supports multiple types of kernels. Here are some commonly used kernel types in SVC:\n",
    "\n",
    "1. Linear Kernel: The linear kernel is a simple and efficient kernel that works well when the data is linearly separable.\n",
    "\n",
    "2. Polynomial Kernel: The polynomial kernel allows for non-linear decision boundaries by mapping the data into a higher-dimensional space using polynomial functions.\n",
    "\n",
    "3. Radial Basis Function (RBF) Kernel: The RBF kernel is a popular choice for non-linear classification problems. It uses a Gaussian function to map the data into an infinite-dimensional space.\n",
    "\n",
    "4. Sigmoid Kernel: The sigmoid kernel is another non-linear kernel that maps the data into a higher-dimensional space using a sigmoid function.\n",
    "\n",
    "These are just a few examples of the kernel types supported by SVC. Each kernel has its own characteristics and is suitable for different types of data and classification problems."
   ]
  },
  {
   "cell_type": "code",
   "execution_count": null,
   "metadata": {},
   "outputs": [],
   "source": [
    "import pandas as pd\n",
    "from sklearn.model_selection import train_test_split\n",
    "from sklearn.preprocessing import StandardScaler\n",
    "from sklearn.svm import SVC\n",
    "from sklearn.metrics import classification_report, confusion_matrix\n",
    "\n",
    "# Load the dataset\n",
    "file_path = './features_3_sec.csv'  # Replace with your actual file path\n",
    "data = pd.read_csv(file_path)\n",
    "\n",
    "# Separate features and target\n",
    "X = data.drop(['filename', 'length', 'label'], axis=1)  # Drop non-feature columns\n",
    "y = data['label']  # Target variable\n",
    "\n",
    "# Split the dataset into training and testing sets\n",
    "X_train, X_test, y_train, y_test = train_test_split(X, y, test_size=0.2, random_state=42)\n",
    "\n",
    "# Scale the features\n",
    "scaler = StandardScaler()\n",
    "X_train = scaler.fit_transform(X_train)\n",
    "X_test = scaler.transform(X_test)"
   ]
  },
  {
   "cell_type": "code",
   "execution_count": 1,
   "metadata": {},
   "outputs": [
    {
     "name": "stdout",
     "output_type": "stream",
     "text": [
      "[[165   1  11   4   1   5   6   0   8   7]\n",
      " [  2 193   2   0   0   6   0   0   0   0]\n",
      " [ 18   2 134   8   1   5   0   3   0  15]\n",
      " [  4   4   8 140  10   3   4   6  10  10]\n",
      " [  9   1  11  11 165   0   1   7  12   1]\n",
      " [  6  10   7   3   0 164   0   0   1   1]\n",
      " [  5   0   1   4   2   0 178   0   0  14]\n",
      " [  0   0   5   5   7   1   0 158   3   1]\n",
      " [  8   1  10   9  22   3   5   8 136   9]\n",
      " [ 12   2  18  21   3   5  14   8   5 109]]\n",
      "              precision    recall  f1-score   support\n",
      "\n",
      "       blues       0.72      0.79      0.76       208\n",
      "   classical       0.90      0.95      0.93       203\n",
      "     country       0.65      0.72      0.68       186\n",
      "       disco       0.68      0.70      0.69       199\n",
      "      hiphop       0.78      0.76      0.77       218\n",
      "        jazz       0.85      0.85      0.85       192\n",
      "       metal       0.86      0.87      0.86       204\n",
      "         pop       0.83      0.88      0.85       180\n",
      "      reggae       0.78      0.64      0.70       211\n",
      "        rock       0.65      0.55      0.60       197\n",
      "\n",
      "    accuracy                           0.77      1998\n",
      "   macro avg       0.77      0.77      0.77      1998\n",
      "weighted avg       0.77      0.77      0.77      1998\n",
      "\n"
     ]
    }
   ],
   "source": [
    "# on linear kernel\n",
    "# Initialize and train the SVM classifier\n",
    "model = SVC(kernel='linear')\n",
    "model.fit(X_train, y_train)\n",
    "\n",
    "# Predictions and evaluation\n",
    "y_pred = model.predict(X_test)\n",
    "print(confusion_matrix(y_test, y_pred))\n",
    "print(classification_report(y_test, y_pred))\n"
   ]
  },
  {
   "cell_type": "code",
   "execution_count": 2,
   "metadata": {},
   "outputs": [
    {
     "name": "stdout",
     "output_type": "stream",
     "text": [
      "[[186   0   6   2   0   7   2   0   1   4]\n",
      " [  0 199   0   0   0   4   0   0   0   0]\n",
      " [ 13   4 150   4   0   6   0   3   0   6]\n",
      " [  1   5   2 155   5   3   5   4   7  12]\n",
      " [  3   2   6   1 187   0   5   7   6   1]\n",
      " [  4  19   5   0   0 161   0   0   2   1]\n",
      " [  2   0   1   1   1   0 192   0   0   7]\n",
      " [  0   0   4   2   2   1   0 165   4   2]\n",
      " [  1   1   4   8   2   1   4   4 183   3]\n",
      " [  7   2  12  19   1   2   7   1   6 140]]\n",
      "              precision    recall  f1-score   support\n",
      "\n",
      "       blues       0.86      0.89      0.88       208\n",
      "   classical       0.86      0.98      0.91       203\n",
      "     country       0.79      0.81      0.80       186\n",
      "       disco       0.81      0.78      0.79       199\n",
      "      hiphop       0.94      0.86      0.90       218\n",
      "        jazz       0.87      0.84      0.85       192\n",
      "       metal       0.89      0.94      0.92       204\n",
      "         pop       0.90      0.92      0.91       180\n",
      "      reggae       0.88      0.87      0.87       211\n",
      "        rock       0.80      0.71      0.75       197\n",
      "\n",
      "    accuracy                           0.86      1998\n",
      "   macro avg       0.86      0.86      0.86      1998\n",
      "weighted avg       0.86      0.86      0.86      1998\n",
      "\n"
     ]
    }
   ],
   "source": [
    "# on rbf kernel; non-linear SVM\n",
    "# Initialize and train the SVM classifier\n",
    "model = SVC(kernel='rbf')\n",
    "model.fit(X_train, y_train)\n",
    "\n",
    "# Predictions and evaluation\n",
    "y_pred = model.predict(X_test)\n",
    "print(confusion_matrix(y_test, y_pred))\n",
    "print(classification_report(y_test, y_pred))\n"
   ]
  },
  {
   "cell_type": "code",
   "execution_count": 3,
   "metadata": {},
   "outputs": [
    {
     "name": "stdout",
     "output_type": "stream",
     "text": [
      "[[153   0  40   5   0   2   2   0   1   5]\n",
      " [  0 192   1   0   0   9   0   0   1   0]\n",
      " [  3   0 162   6   0   5   0   2   1   7]\n",
      " [  0   2  12 164   1   3   2   1   2  12]\n",
      " [  1   1  15   9 176   0   5   2   7   2]\n",
      " [  4  11  11   0   0 163   0   0   2   1]\n",
      " [  2   0   2   5   0   0 186   0   0   9]\n",
      " [  0   0  11   6   4   1   0 150   3   5]\n",
      " [  0   1  22  13   2   1   0   3 168   1]\n",
      " [  0   1  26  28   1   0   6   0   4 131]]\n",
      "              precision    recall  f1-score   support\n",
      "\n",
      "       blues       0.94      0.74      0.82       208\n",
      "   classical       0.92      0.95      0.93       203\n",
      "     country       0.54      0.87      0.66       186\n",
      "       disco       0.69      0.82      0.75       199\n",
      "      hiphop       0.96      0.81      0.88       218\n",
      "        jazz       0.89      0.85      0.87       192\n",
      "       metal       0.93      0.91      0.92       204\n",
      "         pop       0.95      0.83      0.89       180\n",
      "      reggae       0.89      0.80      0.84       211\n",
      "        rock       0.76      0.66      0.71       197\n",
      "\n",
      "    accuracy                           0.82      1998\n",
      "   macro avg       0.85      0.82      0.83      1998\n",
      "weighted avg       0.85      0.82      0.83      1998\n",
      "\n"
     ]
    }
   ],
   "source": [
    "# on polynomial kernel; non-linear SVM\n",
    "# Initialize and train the SVM classifier\n",
    "model = SVC(kernel='poly')\n",
    "model.fit(X_train, y_train)\n",
    "\n",
    "# Predictions and evaluation\n",
    "y_pred = model.predict(X_test)\n",
    "print(confusion_matrix(y_test, y_pred))\n",
    "print(classification_report(y_test, y_pred))\n"
   ]
  },
  {
   "cell_type": "code",
   "execution_count": 4,
   "metadata": {},
   "outputs": [
    {
     "name": "stdout",
     "output_type": "stream",
     "text": [
      "[[103  16  18   6   7  14  26   2  10   6]\n",
      " [  0 173  12   1   0  11   0   1   5   0]\n",
      " [ 34  15  81   8   6  10   4  12   4  12]\n",
      " [  9   9   8  64  32   2  19  39   9   8]\n",
      " [  5   2   5  43  87   0  17  37  21   1]\n",
      " [ 11  37  17   4   1 107   1   7   2   5]\n",
      " [  6   1   2  14   7   0 168   0   0   6]\n",
      " [  0   2  12  30   6   1   0 126   2   1]\n",
      " [ 19   8   8  15  39   5   5  25  84   3]\n",
      " [ 32   6  17  30  10   7  28  14   9  44]]\n",
      "              precision    recall  f1-score   support\n",
      "\n",
      "       blues       0.47      0.50      0.48       208\n",
      "   classical       0.64      0.85      0.73       203\n",
      "     country       0.45      0.44      0.44       186\n",
      "       disco       0.30      0.32      0.31       199\n",
      "      hiphop       0.45      0.40      0.42       218\n",
      "        jazz       0.68      0.56      0.61       192\n",
      "       metal       0.63      0.82      0.71       204\n",
      "         pop       0.48      0.70      0.57       180\n",
      "      reggae       0.58      0.40      0.47       211\n",
      "        rock       0.51      0.22      0.31       197\n",
      "\n",
      "    accuracy                           0.52      1998\n",
      "   macro avg       0.52      0.52      0.51      1998\n",
      "weighted avg       0.52      0.52      0.51      1998\n",
      "\n"
     ]
    }
   ],
   "source": [
    "# on sigmoid kernel; non-linear SVM\n",
    "# Initialize and train the SVM classifier\n",
    "model = SVC(kernel='sigmoid')\n",
    "model.fit(X_train, y_train)\n",
    "\n",
    "# Predictions and evaluation\n",
    "y_pred = model.predict(X_test)\n",
    "print(confusion_matrix(y_test, y_pred))\n",
    "print(classification_report(y_test, y_pred))\n"
   ]
  },
  {
   "cell_type": "code",
   "execution_count": null,
   "metadata": {},
   "outputs": [],
   "source": []
  }
 ],
 "metadata": {
  "kernelspec": {
   "display_name": "MachineLearning",
   "language": "python",
   "name": "python3"
  },
  "language_info": {
   "codemirror_mode": {
    "name": "ipython",
    "version": 3
   },
   "file_extension": ".py",
   "mimetype": "text/x-python",
   "name": "python",
   "nbconvert_exporter": "python",
   "pygments_lexer": "ipython3",
   "version": "3.8.18"
  }
 },
 "nbformat": 4,
 "nbformat_minor": 2
}
