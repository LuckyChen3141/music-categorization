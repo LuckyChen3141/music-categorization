{
 "cells": [
  {
   "cell_type": "code",
   "execution_count": 7,
   "metadata": {},
   "outputs": [],
   "source": [
    "import pandas as pd\n",
    "import torch\n",
    "from torch.utils.data import Dataset, DataLoader"
   ]
  },
  {
   "cell_type": "code",
   "execution_count": 87,
   "metadata": {},
   "outputs": [
    {
     "data": {
      "text/plain": [
       "length                             661794\n",
       "chroma_stft_mean                 0.404785\n",
       "chroma_stft_var                  0.093999\n",
       "rms_mean                         0.141093\n",
       "rms_var                          0.006346\n",
       "spectral_centroid_mean        1070.106615\n",
       "spectral_centroid_var       184355.942417\n",
       "spectral_bandwidth_mean       1596.412872\n",
       "spectral_bandwidth_var      166441.494769\n",
       "rolloff_mean                  2184.745799\n",
       "rolloff_var                1493194.360296\n",
       "zero_crossing_rate_mean          0.033309\n",
       "zero_crossing_rate_var           0.000423\n",
       "harmony_mean                          0.0\n",
       "harmony_var                      0.019054\n",
       "perceptr_mean                   -0.000014\n",
       "perceptr_var                     0.002712\n",
       "tempo                           63.024009\n",
       "mfcc1_mean                    -199.544205\n",
       "mfcc1_var                      5507.51709\n",
       "mfcc2_mean                     150.090897\n",
       "mfcc2_var                      456.505402\n",
       "mfcc3_mean                       5.662678\n",
       "mfcc3_var                      257.161163\n",
       "mfcc4_mean                      26.859079\n",
       "mfcc4_var                      158.267303\n",
       "mfcc5_mean                       1.771399\n",
       "mfcc5_var                      268.034393\n",
       "mfcc6_mean                      14.234031\n",
       "mfcc6_var                      126.794128\n",
       "mfcc7_mean                      -4.832006\n",
       "mfcc7_var                      155.912079\n",
       "mfcc8_mean                       9.286494\n",
       "mfcc8_var                       81.273743\n",
       "mfcc9_mean                      -0.759186\n",
       "mfcc9_var                        92.11409\n",
       "mfcc10_mean                      8.137607\n",
       "mfcc10_var                      71.314079\n",
       "mfcc11_mean                     -3.200653\n",
       "mfcc11_var                     110.236687\n",
       "mfcc12_mean                      6.079319\n",
       "mfcc12_var                      48.251999\n",
       "mfcc13_mean                     -2.480174\n",
       "mfcc13_var                        56.7994\n",
       "mfcc14_mean                     -1.079305\n",
       "mfcc14_var                      62.289902\n",
       "mfcc15_mean                     -2.870789\n",
       "mfcc15_var                      51.651592\n",
       "mfcc16_mean                      0.780874\n",
       "mfcc16_var                      44.427753\n",
       "mfcc17_mean                     -3.319597\n",
       "mfcc17_var                      50.206673\n",
       "mfcc18_mean                      0.636965\n",
       "mfcc18_var                       37.31913\n",
       "mfcc19_mean                     -0.619121\n",
       "mfcc19_var                      37.259739\n",
       "mfcc20_mean                     -3.407448\n",
       "mfcc20_var                      31.949339\n",
       "Name: 3, dtype: object"
      ]
     },
     "execution_count": 87,
     "metadata": {},
     "output_type": "execute_result"
    }
   ],
   "source": [
    "features_30s = pd.read_csv(\"../Data/features_30_sec.csv\")\n",
    "\n",
    "features_30s.iloc[3, 1:-1]"
   ]
  },
  {
   "cell_type": "code",
   "execution_count": 82,
   "metadata": {},
   "outputs": [],
   "source": [
    "import torch.nn.functional as F\n",
    "\n",
    "class CustomDataset(Dataset):\n",
    "    def __init__(self, csv_file, transform=None):\n",
    "        self.data = pd.read_csv(csv_file)\n",
    "        self.transform = transform\n",
    "        self.label_idx = {label: idx for idx, label in enumerate(sorted(set(self.data[\"label\"])))}\n",
    "\n",
    "    def __len__(self):\n",
    "        return len(self.data)\n",
    "\n",
    "    def __getitem__(self, idx):\n",
    "        if torch.is_tensor(idx):\n",
    "            idx = idx.tolist()\n",
    "\n",
    "        input = torch.tensor(self.data.iloc[idx, 2:-1], dtype=torch.float32)\n",
    "        label = F.one_hot(torch.tensor(self.label_idx[self.data.iloc[idx, -1]]), num_classes=len(self.label_idx))\n",
    "        \n",
    "        if self.transform:\n",
    "            input = self.transform(input)\n",
    "\n",
    "        return input, label"
   ]
  },
  {
   "cell_type": "code",
   "execution_count": 83,
   "metadata": {},
   "outputs": [],
   "source": [
    "dataset = CustomDataset(\"../Data/features_30_sec.csv\")"
   ]
  },
  {
   "cell_type": "code",
   "execution_count": 85,
   "metadata": {},
   "outputs": [
    {
     "name": "stderr",
     "output_type": "stream",
     "text": [
      "/tmp/ipykernel_2106/1103232190.py:16: FutureWarning: Series.__getitem__ treating keys as positions is deprecated. In a future version, integer keys will always be treated as labels (consistent with DataFrame behavior). To access a value by position, use `ser.iloc[pos]`\n",
      "  input = torch.tensor(self.data.iloc[idx, 2:-1], dtype=torch.float32)\n"
     ]
    },
    {
     "data": {
      "text/plain": [
       "57"
      ]
     },
     "execution_count": 85,
     "metadata": {},
     "output_type": "execute_result"
    }
   ],
   "source": [
    "inp, label = dataset[0]\n",
    "len(inp)"
   ]
  },
  {
   "cell_type": "code",
   "execution_count": 93,
   "metadata": {},
   "outputs": [],
   "source": [
    "from torch.utils.data.sampler import SubsetRandomSampler\n",
    "\n",
    "torch.manual_seed(123)\n",
    "\n",
    "train_sampler = SubsetRandomSampler(range(1000))\n",
    "train_loader = torch.utils.data.DataLoader(dataset, batch_size=1, num_workers=1, sampler=train_sampler)"
   ]
  },
  {
   "cell_type": "code",
   "execution_count": 95,
   "metadata": {},
   "outputs": [
    {
     "name": "stderr",
     "output_type": "stream",
     "text": [
      "/tmp/ipykernel_2106/1103232190.py:16: FutureWarning: Series.__getitem__ treating keys as positions is deprecated. In a future version, integer keys will always be treated as labels (consistent with DataFrame behavior). To access a value by position, use `ser.iloc[pos]`\n",
      "  input = torch.tensor(self.data.iloc[idx, 2:-1], dtype=torch.float32)\n"
     ]
    },
    {
     "name": "stdout",
     "output_type": "stream",
     "text": [
      "tensor([ 4.0253e-01,  8.8676e-02,  7.9205e-02,  2.4827e-04,  2.6692e+03,\n",
      "         4.5984e+05,  2.4403e+03,  8.5044e+04,  5.4459e+03,  1.3686e+06,\n",
      "         1.3342e-01,  4.5573e-03,  6.3759e-04,  4.0046e-03,  1.2969e-03,\n",
      "         9.5731e-04,  1.5200e+02, -1.2333e+02,  2.6374e+03,  7.4883e+01,\n",
      "         6.3775e+02, -1.7065e+01,  2.7358e+02,  3.1612e+01,  2.0048e+02,\n",
      "         2.5440e+00,  1.0802e+02,  1.7331e+01,  8.9299e+01, -3.8127e+00,\n",
      "         1.0200e+02,  9.7295e+00,  6.1421e+01, -7.2345e+00,  6.6062e+01,\n",
      "         1.1267e+01,  4.7011e+01,  3.7987e-01,  4.4066e+01,  3.4734e+00,\n",
      "         4.9047e+01,  1.6684e+00,  7.0591e+01, -3.1595e+00,  4.9460e+01,\n",
      "        -1.0819e+00,  4.4166e+01,  3.1769e-01,  4.3706e+01, -5.9882e+00,\n",
      "         5.0242e+01, -3.2017e-01,  7.2723e+01, -2.3397e+00,  6.5235e+01,\n",
      "        -4.3212e+00,  5.0373e+01]) tensor([[0, 0, 0, 0, 0, 0, 0, 0, 0, 1]])\n"
     ]
    }
   ],
   "source": [
    "for i, data in enumerate(train_loader, 0):\n",
    "    # Get the inputs\n",
    "    inputs, labels = data\n",
    "    print(inputs[0], labels)\n",
    "    break"
   ]
  },
  {
   "cell_type": "code",
   "execution_count": null,
   "metadata": {},
   "outputs": [],
   "source": []
  }
 ],
 "metadata": {
  "kernelspec": {
   "display_name": "Python 3 (ipykernel)",
   "language": "python",
   "name": "python3"
  }
 },
 "nbformat": 4,
 "nbformat_minor": 2
}
